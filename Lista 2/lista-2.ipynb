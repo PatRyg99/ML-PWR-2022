{
 "cells": [
  {
   "cell_type": "code",
   "execution_count": 1,
   "metadata": {},
   "outputs": [],
   "source": [
    "from src.problems.problem import Problem\n",
    "from src.heuristics.genetic_algorithm import GeneticAlgorithm\n",
    "from src.heuristics.greedy_search import GreedySearch\n",
    "from src.heuristics.random_search import RandomSearch"
   ]
  },
  {
   "cell_type": "markdown",
   "metadata": {},
   "source": [
    "# 1. Demo uruchamiania heurystyk dla różnych problemów i parametrów"
   ]
  },
  {
   "cell_type": "markdown",
   "metadata": {},
   "source": [
    "## 1.1. Załadowanie problemu"
   ]
  },
  {
   "cell_type": "code",
   "execution_count": 2,
   "metadata": {},
   "outputs": [
    {
     "name": "stdout",
     "output_type": "stream",
     "text": [
      "----------------------------------------------\n",
      "Loaded problem: ATT48\n",
      "DIMENSION = 48\n",
      "MINIMAL_LENGTH = 33523\n",
      "----------------------------------------------\n",
      "\n"
     ]
    }
   ],
   "source": [
    "problem = Problem.load_from_name(\"ATT48\")"
   ]
  },
  {
   "cell_type": "markdown",
   "metadata": {},
   "source": [
    "## 1.2. Random search demo (losowe przeszukiwanie)"
   ]
  },
  {
   "cell_type": "markdown",
   "metadata": {},
   "source": [
    "### a) Pojedyncze wykonanie heurystyki"
   ]
  },
  {
   "cell_type": "code",
   "execution_count": 3,
   "metadata": {},
   "outputs": [
    {
     "name": "stdout",
     "output_type": "stream",
     "text": [
      "Running problem: ATT48\n"
     ]
    },
    {
     "name": "stderr",
     "output_type": "stream",
     "text": [
      "                                                           "
     ]
    },
    {
     "name": "stdout",
     "output_type": "stream",
     "text": [
      "Best fitness: 116843.0\n"
     ]
    },
    {
     "name": "stderr",
     "output_type": "stream",
     "text": [
      "\r"
     ]
    }
   ],
   "source": [
    "ITERS = 10_000\n",
    "\n",
    "random_search = RandomSearch(problem, ITERS)\n",
    "random_search.run()"
   ]
  },
  {
   "cell_type": "markdown",
   "metadata": {},
   "source": [
    "### b) Wielokrotne wykoanie heurystyki"
   ]
  },
  {
   "cell_type": "code",
   "execution_count": 8,
   "metadata": {},
   "outputs": [
    {
     "name": "stdout",
     "output_type": "stream",
     "text": [
      "Repeat [1/3]: 112258.0\n",
      "Repeat [2/3]: 120066.0\n",
      "Repeat [3/3]: 118966.0\n"
     ]
    }
   ],
   "source": [
    "random_search.run_repeat(3)"
   ]
  },
  {
   "cell_type": "markdown",
   "metadata": {},
   "source": [
    "## 1.3. Greedy search demo (zachłanne przeszukiwanie)"
   ]
  },
  {
   "cell_type": "markdown",
   "metadata": {},
   "source": [
    "### a) Pojedyncze wykonanie heurystyki"
   ]
  },
  {
   "cell_type": "code",
   "execution_count": 5,
   "metadata": {},
   "outputs": [
    {
     "name": "stdout",
     "output_type": "stream",
     "text": [
      "Running problem: ATT48\n"
     ]
    },
    {
     "name": "stderr",
     "output_type": "stream",
     "text": [
      "                                                           "
     ]
    },
    {
     "name": "stdout",
     "output_type": "stream",
     "text": [
      "Best fitness: 37928.0\n"
     ]
    },
    {
     "name": "stderr",
     "output_type": "stream",
     "text": [
      "\r"
     ]
    }
   ],
   "source": [
    "greedy_search = GreedySearch(problem)\n",
    "greedy_search.run()"
   ]
  },
  {
   "cell_type": "markdown",
   "metadata": {},
   "source": [
    "### b) Wielokrotne wykonanie heurystyki\n",
    "\n",
    "Heurystyka zachłanna jest deterministyczna, zatem nie ma potrzeby puszczania jej wielokrotnie, gdyż zawsze znajduje ona to samo optimum lokalne."
   ]
  },
  {
   "cell_type": "code",
   "execution_count": 7,
   "metadata": {},
   "outputs": [
    {
     "name": "stdout",
     "output_type": "stream",
     "text": [
      "Repeat [1/3]: 37928.0\n",
      "Repeat [2/3]: 37928.0\n",
      "Repeat [3/3]: 37928.0\n"
     ]
    }
   ],
   "source": [
    "greedy_search.run_repeat(3)"
   ]
  },
  {
   "cell_type": "markdown",
   "metadata": {},
   "source": [
    "## 1.4. Genetic algorithm demo (algorytm genetyczny)"
   ]
  },
  {
   "cell_type": "markdown",
   "metadata": {},
   "source": [
    "### a) Pojedyncze wykonanie heurystyki"
   ]
  },
  {
   "cell_type": "code",
   "execution_count": 9,
   "metadata": {},
   "outputs": [
    {
     "name": "stdout",
     "output_type": "stream",
     "text": [
      "Running problem: ATT48\n"
     ]
    },
    {
     "name": "stderr",
     "output_type": "stream",
     "text": [
      "                                                                \r"
     ]
    },
    {
     "name": "stdout",
     "output_type": "stream",
     "text": [
      "Best fitness: 34599.0\n"
     ]
    },
    {
     "data": {
      "image/png": "[encoded data removed]",
      "text/plain": [
       "<Figure size 432x288 with 1 Axes>"
      ]
     },
     "metadata": {
      "needs_background": "light"
     },
     "output_type": "display_data"
    }
   ],
   "source": [
    "TOUR = 250\n",
    "POP_SIZE = 500\n",
    "GENERATIONS = 100\n",
    "\n",
    "ga = GeneticAlgorithm(problem, GENERATIONS, POP_SIZE, TOUR)\n",
    "ga.run()"
   ]
  },
  {
   "cell_type": "markdown",
   "metadata": {},
   "source": [
    "### b) Wielokrotne wykonanie heurystyki"
   ]
  },
  {
   "cell_type": "code",
   "execution_count": 10,
   "metadata": {},
   "outputs": [
    {
     "name": "stdout",
     "output_type": "stream",
     "text": [
      "Repeat [1/3]: 35786.0\n",
      "Repeat [2/3]: 34383.0\n",
      "Repeat [3/3]: 34997.0\n"
     ]
    }
   ],
   "source": [
    "ga.run_repeat(3)"
   ]
  }
 ],
 "metadata": {
  "interpreter": {
   "hash": "f99b7b5eda1d81d26ead83040c5f5fe80279029b70b6c8d0662d70c9868d3f07"
  },
  "kernelspec": {
   "display_name": "Python 3.9.7 ('base')",
   "language": "python",
   "name": "python3"
  },
  "language_info": {
   "codemirror_mode": {
    "name": "ipython",
    "version": 3
   },
   "file_extension": ".py",
   "mimetype": "text/x-python",
   "name": "python",
   "nbconvert_exporter": "python",
   "pygments_lexer": "ipython3",
   "version": "3.9.10"
  },
  "orig_nbformat": 4
 },
 "nbformat": 4,
 "nbformat_minor": 2
}
