{
 "cells": [
  {
   "cell_type": "code",
   "execution_count": 1,
   "metadata": {},
   "outputs": [],
   "source": [
    "import numpy as np\n",
    "import matplotlib.pyplot as plt\n",
    "\n",
    "from src.genetic_utils.initialization import generate_distance_matrix\n",
    "from src.heuristics.genetic_algorithm import GeneticAlgorithm\n",
    "from src.heuristics.greedy_search import GreedySearch\n",
    "from src.heuristics.random_search import RandomSearch"
   ]
  },
  {
   "cell_type": "code",
   "execution_count": 2,
   "metadata": {},
   "outputs": [],
   "source": [
    "def plot_genetic(log_history):\n",
    "    xs = np.arange(len(log_history))\n",
    "    \n",
    "    plt.plot(xs, log_history[\"best\"], label=\"Best fitness\")\n",
    "    plt.plot(xs, log_history[\"mean\"], label=\"Mean fitness\")\n",
    "    plt.plot(xs, log_history[\"worst\"], label=\"Worst fitness\")\n",
    "\n",
    "    plt.title(\"Fitness progression plot\")\n",
    "    plt.legend()"
   ]
  },
  {
   "cell_type": "code",
   "execution_count": 7,
   "metadata": {},
   "outputs": [],
   "source": [
    "N = 200\n",
    "TOUR = 100\n",
    "POP_SIZE = 500\n",
    "ITERS = 1000\n",
    "\n",
    "distance_matrix = generate_distance_matrix(N)"
   ]
  },
  {
   "cell_type": "code",
   "execution_count": 14,
   "metadata": {},
   "outputs": [
    {
     "name": "stderr",
     "output_type": "stream",
     "text": [
      "Iteration 2984:  60%|█████▉    | 2983/5000 [00:01<00:01, 1814.62it/s]IOPub message rate exceeded.\n",
      "The notebook server will temporarily stop sending output\n",
      "to the client in order to avoid crashing it.\n",
      "To change this limit, set the config variable\n",
      "`--NotebookApp.iopub_msg_rate_limit`.\n",
      "\n",
      "Current values:\n",
      "NotebookApp.iopub_msg_rate_limit=1000.0 (msgs/sec)\n",
      "NotebookApp.rate_limit_window=3.0 (secs)\n",
      "\n"
     ]
    }
   ],
   "source": [
    "random_search = RandomSearch(N, ITERS)\n",
    "random_search.run(distance_matrix)\n",
    "\n",
    "np.min(random_search.history[\"fitness\"])"
   ]
  },
  {
   "cell_type": "code",
   "execution_count": 12,
   "metadata": {},
   "outputs": [
    {
     "name": "stderr",
     "output_type": "stream",
     "text": [
      "Iteration 1: 100%|██████████| 1/1 [00:00<00:00, 229.74it/s]\n"
     ]
    },
    {
     "data": {
      "text/plain": [
       "0.011049602649568977"
      ]
     },
     "execution_count": 12,
     "metadata": {},
     "output_type": "execute_result"
    }
   ],
   "source": [
    "greedy_search = GreedySearch(N)\n",
    "greedy_search.run(distance_matrix)\n",
    "\n",
    "np.min(greedy_search.history[\"fitness\"])"
   ]
  },
  {
   "cell_type": "code",
   "execution_count": 13,
   "metadata": {},
   "outputs": [
    {
     "name": "stderr",
     "output_type": "stream",
     "text": [
      "Iteration 5000: 100%|██████████| 5000/5000 [00:23<00:00, 208.62it/s]\n"
     ]
    },
    {
     "name": "stdout",
     "output_type": "stream",
     "text": [
      "0.0002245441807495399\n"
     ]
    },
    {
     "data": {
      "image/png": "[encoded data removed]",
      "text/plain": [
       "<Figure size 432x288 with 1 Axes>"
      ]
     },
     "metadata": {
      "needs_background": "light"
     },
     "output_type": "display_data"
    }
   ],
   "source": [
    "ga = GeneticAlgorithm(POP_SIZE, N, TOUR, ITERS)\n",
    "ga.run(distance_matrix)\n",
    "\n",
    "print(np.min(ga.history[\"best\"]))\n",
    "plot_genetic(ga.history)"
   ]
  }
 ],
 "metadata": {
  "interpreter": {
   "hash": "f99b7b5eda1d81d26ead83040c5f5fe80279029b70b6c8d0662d70c9868d3f07"
  },
  "kernelspec": {
   "display_name": "Python 3.9.7 ('base')",
   "language": "python",
   "name": "python3"
  },
  "language_info": {
   "codemirror_mode": {
    "name": "ipython",
    "version": 3
   },
   "file_extension": ".py",
   "mimetype": "text/x-python",
   "name": "python",
   "nbconvert_exporter": "python",
   "pygments_lexer": "ipython3",
   "version": "3.9.10"
  },
  "orig_nbformat": 4
 },
 "nbformat": 4,
 "nbformat_minor": 2
}
